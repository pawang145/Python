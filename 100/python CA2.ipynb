{
 "metadata": {
  "language_info": {
   "codemirror_mode": {
    "name": "ipython",
    "version": 3
   },
   "file_extension": ".py",
   "mimetype": "text/x-python",
   "name": "python",
   "nbconvert_exporter": "python",
   "pygments_lexer": "ipython3",
   "version": "3.8.7"
  },
  "orig_nbformat": 2,
  "kernelspec": {
   "name": "python387jvsc74a57bd0972b5ec1b842f27ae2c0010e9759415d9b64b00553f26148f17b67f1cf3a58df",
   "display_name": "Python 3.8.7 64-bit"
  },
  "metadata": {
   "interpreter": {
    "hash": "972b5ec1b842f27ae2c0010e9759415d9b64b00553f26148f17b67f1cf3a58df"
   }
  }
 },
 "nbformat": 4,
 "nbformat_minor": 2,
 "cells": [
  {
   "cell_type": "code",
   "execution_count": 1,
   "metadata": {},
   "outputs": [
    {
     "output_type": "stream",
     "name": "stdout",
     "text": [
      "             Date    Station Area   Description       TOC       ORD       MOB  \\\n0      01/01/2013     Rathfarnham     S/S OTHER  01:27:19  01:28:58  01:30:47   \n1      01/01/2013        Tallaght      Fire CAR  01:49:57  01:50:40  01:51:47   \n2      01/01/2013    North Strand       S/S RTA  03:35:24  03:36:14  03:38:28   \n3      01/01/2013        Tallaght      Fire CAR  04:12:51  04:13:56  04:14:32   \n4      01/01/2013         Finglas  Fire DOM PER  04:14:24  04:15:36  04:17:37   \n...           ...             ...           ...       ...       ...       ...   \n38551  28/04/2018  Blanchardstown    Fire ALARM  23:57:36  23:59:00  00:01:09   \n38552  09/10/2018      Kilbarrack      Fire CAR  23:58:18  23:59:14  00:00:48   \n38553  07/06/2018        Skerries    Fire SMALL  23:56:49  23:59:23  00:00:41   \n38554  21/11/2018      Donnybrook    Fire ALARM  23:58:57  23:59:26  00:00:59   \n38555  01/01/2019      Kilbarrack    Fire ALARM  23:58:18  23:59:48  00:01:36   \n\n             IA        LS        AH       MAV        CD  \n0      01:58:54  02:08:54  02:28:54  02:48:54  03:08:54  \n1      01:55:43  02:05:43  02:25:43  02:45:43  03:05:43  \n2      03:41:20  03:51:20  04:11:20  04:31:20  04:51:20  \n3      04:20:48  04:30:48  04:50:48  05:10:48  05:30:48  \n4      04:20:47  04:30:47  04:50:47  05:10:47  05:30:47  \n...         ...       ...       ...       ...       ...  \n38551  00:09:30  00:19:30       NaN  00:20:00  00:40:00  \n38552  00:07:55  00:17:55       NaN  00:20:00  00:40:00  \n38553  00:19:49  00:29:49       NaN         -         -  \n38554  00:04:23  00:14:23       NaN         -         -  \n38555  00:14:18  00:24:18       NaN         -         -  \n\n[38556 rows x 11 columns]\n"
     ]
    }
   ],
   "source": [
    "#Import Libraries \n",
    "import pandas as pd \n",
    "import io \n",
    "import numpy as numpy\n",
    "import pyodbc\n",
    "#Load CSV\n",
    "data = pd.read_csv(\"FireBrigadeAndAmbulanceCallOuts.csv\") \n",
    "print(data)\n"
   ]
  },
  {
   "cell_type": "code",
   "execution_count": 5,
   "metadata": {},
   "outputs": [
    {
     "output_type": "stream",
     "name": "stdout",
     "text": [
      "Total number of rows are: 38556\nTotal number of columns are: 11\n"
     ]
    }
   ],
   "source": [
    "#Total number of rows and columns are\n",
    "print(\"Total number of rows are:\", data.shape[0])\n",
    "print(\"Total number of columns are:\", data.shape[1])\n"
   ]
  },
  {
   "cell_type": "code",
   "execution_count": 6,
   "metadata": {},
   "outputs": [
    {
     "output_type": "stream",
     "name": "stdout",
     "text": [
      "The number of non null rows (by column)\n\n Date            38556\nStation Area    38556\nDescription     38556\nTOC             38556\nORD             38556\nMOB             37311\nIA              30962\nLS              38556\nAH                153\nMAV             38530\nCD              38530\ndtype: int64\n"
     ]
    }
   ],
   "source": [
    "#Number of non nul rows\n",
    "print(\"The number of non null rows (by column)\\n\\n\",data.notnull().sum())\n"
   ]
  },
  {
   "cell_type": "code",
   "execution_count": 7,
   "metadata": {},
   "outputs": [
    {
     "output_type": "stream",
     "name": "stdout",
     "text": [
      "Date                0\nStation Area        0\nDescription         0\nTOC                 0\nORD                 0\nMOB              1245\nIA               7594\nLS                  0\nAH              38403\nMAV                26\nCD                 26\ndtype: int64\n"
     ]
    }
   ],
   "source": [
    "#Number of null values (by column)\n",
    "count=data.isnull().sum()\n",
    "print(count)\n",
    "\n",
    "\n"
   ]
  },
  {
   "cell_type": "code",
   "execution_count": 9,
   "metadata": {},
   "outputs": [
    {
     "output_type": "stream",
     "name": "stdout",
     "text": [
      "The number of null values for all columns are 47294\n"
     ]
    }
   ],
   "source": [
    "#The number of null values for all columns\n",
    "print(\"The number of null values for all columns are\",sum(count))\n"
   ]
  },
  {
   "cell_type": "code",
   "execution_count": 11,
   "metadata": {},
   "outputs": [
    {
     "output_type": "stream",
     "name": "stdout",
     "text": [
      "                Date  Description   TOC   ORD   MOB    IA    LS  AH   MAV  \\\nStation Area                                                                \nBalbriggan       688          688   688   688   668   548   688   5   688   \nBlanchardstown  2089         2089  2089  2089  2006  1630  2089   6  2088   \nDolphins Barn   4018         4018  4018  4018  3892  3407  4018  15  4013   \nDonnybrook      1787         1787  1787  1787  1718  1449  1787   9  1785   \nDun Laoghaire   3271         3271  3271  3271  3213  2513  3271  21  3268   \nDunshaughlin       2            2     2     2     2     1     2   0     2   \nFinglas         3030         3030  3030  3030  2913  2392  3030  12  3027   \nKilbarrack      3548         3548  3548  3548  3452  2833  3548  17  3545   \nMH14               1            1     1     1     1     1     1   0     1   \nNorth Strand    1645         1645  1645  1645  1545  1320  1645   5  1644   \nPhibsborough    3160         3160  3160  3160  3039  2602  3160  10  3159   \nRathfarnham     2129         2129  2129  2129  2066  1629  2129   5  2129   \nSkerries         449          449   449   449   433   379   449   1   449   \nSwords          2614         2614  2614  2614  2540  2034  2614   8  2614   \nTallaght        6525         6525  6525  6525  6381  5214  6525  30  6521   \nTara St         3600         3600  3600  3600  3442  3010  3600   9  3597   \n\n                  CD  \nStation Area          \nBalbriggan       688  \nBlanchardstown  2088  \nDolphins Barn   4013  \nDonnybrook      1785  \nDun Laoghaire   3268  \nDunshaughlin       2  \nFinglas         3027  \nKilbarrack      3545  \nMH14               1  \nNorth Strand    1644  \nPhibsborough    3159  \nRathfarnham     2129  \nSkerries         449  \nSwords          2614  \nTallaght        6521  \nTara St         3597  \n"
     ]
    }
   ],
   "source": [
    "#The total number of call outs by Station Area\n",
    "print(data.groupby(['Station Area']).count())\n"
   ]
  },
  {
   "cell_type": "code",
   "execution_count": 53,
   "metadata": {},
   "outputs": [
    {
     "output_type": "stream",
     "name": "stdout",
     "text": [
      "StationArea  Date      \nBalbriggan   01/01/2013     3\n             01/01/2014     1\n             01/02/2014     2\n             01/03/2013     1\n             01/03/2014     1\n                           ..\nTara St      31/10/2013     9\n             31/10/2014    11\n             31/10/2015     5\n             31/12/2013     4\n             31/12/2014     3\nName: StationArea, Length: 12483, dtype: int64\n"
     ]
    }
   ],
   "source": [
    "#The total Number of call outs by Station Area and Date\n",
    "print(data.groupby(['StationArea','Date'])['StationArea'].count())\n",
    "\n"
   ]
  },
  {
   "cell_type": "code",
   "execution_count": 16,
   "metadata": {},
   "outputs": [
    {
     "output_type": "execute_result",
     "data": {
      "text/plain": [
       "                                     TOC  ORD  MOB  IA  LS  AH  MAV  CD\n",
       "Station Area Date       Description                                    \n",
       "Balbriggan   01/01/2013 Fire ALARM     2    2    2   1   2   2    2   2\n",
       "             01/01/2014 Fire ALARM     1    1    1   1   1   0    1   1\n",
       "             02/03/2013 Fire ALARM     1    1    1   0   1   0    1   1\n",
       "             02/06/2013 Fire ALARM     1    1    1   1   1   0    1   1\n",
       "             02/11/2013 Fire ALARM     1    1    1   1   1   0    1   1\n",
       "...                                  ...  ...  ...  ..  ..  ..  ...  ..\n",
       "Tara St      31/07/2015 Fire ALARM     2    2    2   2   2   0    2   2\n",
       "             31/08/2013 Fire ALARM     1    1    1   1   1   0    1   1\n",
       "             31/10/2014 Fire ALARM     1    1    1   1   1   0    1   1\n",
       "             31/10/2015 Fire ALARM     1    1    1   1   1   0    1   1\n",
       "             31/12/2013 Fire ALARM     1    1    1   1   1   0    1   1\n",
       "\n",
       "[5236 rows x 8 columns]"
      ],
      "text/html": "<div>\n<style scoped>\n    .dataframe tbody tr th:only-of-type {\n        vertical-align: middle;\n    }\n\n    .dataframe tbody tr th {\n        vertical-align: top;\n    }\n\n    .dataframe thead th {\n        text-align: right;\n    }\n</style>\n<table border=\"1\" class=\"dataframe\">\n  <thead>\n    <tr style=\"text-align: right;\">\n      <th></th>\n      <th></th>\n      <th></th>\n      <th>TOC</th>\n      <th>ORD</th>\n      <th>MOB</th>\n      <th>IA</th>\n      <th>LS</th>\n      <th>AH</th>\n      <th>MAV</th>\n      <th>CD</th>\n    </tr>\n    <tr>\n      <th>Station Area</th>\n      <th>Date</th>\n      <th>Description</th>\n      <th></th>\n      <th></th>\n      <th></th>\n      <th></th>\n      <th></th>\n      <th></th>\n      <th></th>\n      <th></th>\n    </tr>\n  </thead>\n  <tbody>\n    <tr>\n      <th rowspan=\"5\" valign=\"top\">Balbriggan</th>\n      <th>01/01/2013</th>\n      <th>Fire ALARM</th>\n      <td>2</td>\n      <td>2</td>\n      <td>2</td>\n      <td>1</td>\n      <td>2</td>\n      <td>2</td>\n      <td>2</td>\n      <td>2</td>\n    </tr>\n    <tr>\n      <th>01/01/2014</th>\n      <th>Fire ALARM</th>\n      <td>1</td>\n      <td>1</td>\n      <td>1</td>\n      <td>1</td>\n      <td>1</td>\n      <td>0</td>\n      <td>1</td>\n      <td>1</td>\n    </tr>\n    <tr>\n      <th>02/03/2013</th>\n      <th>Fire ALARM</th>\n      <td>1</td>\n      <td>1</td>\n      <td>1</td>\n      <td>0</td>\n      <td>1</td>\n      <td>0</td>\n      <td>1</td>\n      <td>1</td>\n    </tr>\n    <tr>\n      <th>02/06/2013</th>\n      <th>Fire ALARM</th>\n      <td>1</td>\n      <td>1</td>\n      <td>1</td>\n      <td>1</td>\n      <td>1</td>\n      <td>0</td>\n      <td>1</td>\n      <td>1</td>\n    </tr>\n    <tr>\n      <th>02/11/2013</th>\n      <th>Fire ALARM</th>\n      <td>1</td>\n      <td>1</td>\n      <td>1</td>\n      <td>1</td>\n      <td>1</td>\n      <td>0</td>\n      <td>1</td>\n      <td>1</td>\n    </tr>\n    <tr>\n      <th>...</th>\n      <th>...</th>\n      <th>...</th>\n      <td>...</td>\n      <td>...</td>\n      <td>...</td>\n      <td>...</td>\n      <td>...</td>\n      <td>...</td>\n      <td>...</td>\n      <td>...</td>\n    </tr>\n    <tr>\n      <th rowspan=\"5\" valign=\"top\">Tara St</th>\n      <th>31/07/2015</th>\n      <th>Fire ALARM</th>\n      <td>2</td>\n      <td>2</td>\n      <td>2</td>\n      <td>2</td>\n      <td>2</td>\n      <td>0</td>\n      <td>2</td>\n      <td>2</td>\n    </tr>\n    <tr>\n      <th>31/08/2013</th>\n      <th>Fire ALARM</th>\n      <td>1</td>\n      <td>1</td>\n      <td>1</td>\n      <td>1</td>\n      <td>1</td>\n      <td>0</td>\n      <td>1</td>\n      <td>1</td>\n    </tr>\n    <tr>\n      <th>31/10/2014</th>\n      <th>Fire ALARM</th>\n      <td>1</td>\n      <td>1</td>\n      <td>1</td>\n      <td>1</td>\n      <td>1</td>\n      <td>0</td>\n      <td>1</td>\n      <td>1</td>\n    </tr>\n    <tr>\n      <th>31/10/2015</th>\n      <th>Fire ALARM</th>\n      <td>1</td>\n      <td>1</td>\n      <td>1</td>\n      <td>1</td>\n      <td>1</td>\n      <td>0</td>\n      <td>1</td>\n      <td>1</td>\n    </tr>\n    <tr>\n      <th>31/12/2013</th>\n      <th>Fire ALARM</th>\n      <td>1</td>\n      <td>1</td>\n      <td>1</td>\n      <td>1</td>\n      <td>1</td>\n      <td>0</td>\n      <td>1</td>\n      <td>1</td>\n    </tr>\n  </tbody>\n</table>\n<p>5236 rows × 8 columns</p>\n</div>"
     },
     "metadata": {},
     "execution_count": 16
    }
   ],
   "source": [
    "#The total Number of call outs by Station Area and Date where the description is either Fire Car or Fire Alarm.\n",
    "data1=data.loc[data['Description'].isin(['Fire Car','Fire ALARM'])]\n",
    "data1.groupby([\"Station Area\",\"Date\",\"Description\"]).count()\n",
    "\n"
   ]
  },
  {
   "cell_type": "code",
   "execution_count": 18,
   "metadata": {},
   "outputs": [
    {
     "output_type": "stream",
     "name": "stdout",
     "text": [
      "             Date    Station Area   Description       TOC       ORD       MOB  \\\n0      01/01/2013     Rathfarnham     S/S OTHER  01:27:19  01:28:58  01:30:47   \n1      01/01/2013        Tallaght      Fire CAR  01:49:57  01:50:40  01:51:47   \n2      01/01/2013    North Strand       S/S RTA  03:35:24  03:36:14  03:38:28   \n3      01/01/2013        Tallaght      Fire CAR  04:12:51  04:13:56  04:14:32   \n4      01/01/2013         Finglas  Fire DOM PER  04:14:24  04:15:36  04:17:37   \n...           ...             ...           ...       ...       ...       ...   \n38551  28/04/2018  Blanchardstown    Fire ALARM  23:57:36  23:59:00  00:01:09   \n38552  09/10/2018      Kilbarrack      Fire CAR  23:58:18  23:59:14  00:00:48   \n38553  07/06/2018        Skerries    Fire SMALL  23:56:49  23:59:23  00:00:41   \n38554  21/11/2018      Donnybrook    Fire ALARM  23:58:57  23:59:26  00:00:59   \n38555  01/01/2019      Kilbarrack    Fire ALARM  23:58:18  23:59:48  00:01:36   \n\n             IA        LS        AH       MAV        CD  \n0      01:58:54  02:08:54  02:28:54  02:48:54  03:08:54  \n1      01:55:43  02:05:43  02:25:43  02:45:43  03:05:43  \n2      03:41:20  03:51:20  04:11:20  04:31:20  04:51:20  \n3      04:20:48  04:30:48  04:50:48  05:10:48  05:30:48  \n4      04:20:47  04:30:47  04:50:47  05:10:47  05:30:47  \n...         ...       ...       ...       ...       ...  \n38551  00:09:30  00:19:30       NaN  00:20:00  00:40:00  \n38552  00:07:55  00:17:55       NaN  00:20:00  00:40:00  \n38553  00:19:49  00:29:49       NaN         -         -  \n38554  00:04:23  00:14:23       NaN         -         -  \n38555  00:14:18  00:24:18       NaN         -         -  \n\n[38556 rows x 11 columns]\n"
     ]
    }
   ],
   "source": [
    "#Replacing any instance of ',' (in any column) with an empty string\n",
    "new_data=data.replace(',','')\n",
    "print(new_data)\n",
    "\n"
   ]
  },
  {
   "cell_type": "code",
   "execution_count": 59,
   "metadata": {},
   "outputs": [
    {
     "output_type": "execute_result",
     "data": {
      "text/plain": [
       "             Date     StationArea   Description       TOC       ORD       MOB  \\\n",
       "0      01/01/2013     Rathfarnham     S/S OTHER  01:27:19  01:28:58  01:30:47   \n",
       "1      01/01/2013        Tallaght      Fire CAR  01:49:57  01:50:40  01:51:47   \n",
       "2      01/01/2013    North Strand       S/S RTA  03:35:24  03:36:14  03:38:28   \n",
       "3      01/01/2013        Tallaght      Fire CAR  04:12:51  04:13:56  04:14:32   \n",
       "4      01/01/2013         Finglas  Fire DOM PER  04:14:24  04:15:36  04:17:37   \n",
       "...           ...             ...           ...       ...       ...       ...   \n",
       "38551  28/04/2018  Blanchardstown    Fire ALARM  23:57:36  23:59:00  00:01:09   \n",
       "38552  09/10/2018      Kilbarrack      Fire CAR  23:58:18  23:59:14  00:00:48   \n",
       "38553  07/06/2018        Skerries    Fire SMALL  23:56:49  23:59:23  00:00:41   \n",
       "38554  21/11/2018      Donnybrook    Fire ALARM  23:58:57  23:59:26  00:00:59   \n",
       "38555  01/01/2019      Kilbarrack    Fire ALARM  23:58:18  23:59:48  00:01:36   \n",
       "\n",
       "             IA        LS        AH       MAV        CD  \n",
       "0      01:58:54  02:08:54  02:28:54  02:48:54  03:08:54  \n",
       "1      01:55:43  02:05:43  02:25:43  02:45:43  03:05:43  \n",
       "2      03:41:20  03:51:20  04:11:20  04:31:20  04:51:20  \n",
       "3      04:20:48  04:30:48  04:50:48  05:10:48  05:30:48  \n",
       "4      04:20:47  04:30:47  04:50:47  05:10:47  05:30:47  \n",
       "...         ...       ...       ...       ...       ...  \n",
       "38551  00:09:30  00:19:30         0  00:20:00  00:40:00  \n",
       "38552  00:07:55  00:17:55         0  00:20:00  00:40:00  \n",
       "38553  00:19:49  00:29:49         0                      \n",
       "38554  00:04:23  00:14:23         0                      \n",
       "38555  00:14:18  00:24:18         0                      \n",
       "\n",
       "[38556 rows x 11 columns]"
      ],
      "text/html": "<div>\n<style scoped>\n    .dataframe tbody tr th:only-of-type {\n        vertical-align: middle;\n    }\n\n    .dataframe tbody tr th {\n        vertical-align: top;\n    }\n\n    .dataframe thead th {\n        text-align: right;\n    }\n</style>\n<table border=\"1\" class=\"dataframe\">\n  <thead>\n    <tr style=\"text-align: right;\">\n      <th></th>\n      <th>Date</th>\n      <th>StationArea</th>\n      <th>Description</th>\n      <th>TOC</th>\n      <th>ORD</th>\n      <th>MOB</th>\n      <th>IA</th>\n      <th>LS</th>\n      <th>AH</th>\n      <th>MAV</th>\n      <th>CD</th>\n    </tr>\n  </thead>\n  <tbody>\n    <tr>\n      <th>0</th>\n      <td>01/01/2013</td>\n      <td>Rathfarnham</td>\n      <td>S/S OTHER</td>\n      <td>01:27:19</td>\n      <td>01:28:58</td>\n      <td>01:30:47</td>\n      <td>01:58:54</td>\n      <td>02:08:54</td>\n      <td>02:28:54</td>\n      <td>02:48:54</td>\n      <td>03:08:54</td>\n    </tr>\n    <tr>\n      <th>1</th>\n      <td>01/01/2013</td>\n      <td>Tallaght</td>\n      <td>Fire CAR</td>\n      <td>01:49:57</td>\n      <td>01:50:40</td>\n      <td>01:51:47</td>\n      <td>01:55:43</td>\n      <td>02:05:43</td>\n      <td>02:25:43</td>\n      <td>02:45:43</td>\n      <td>03:05:43</td>\n    </tr>\n    <tr>\n      <th>2</th>\n      <td>01/01/2013</td>\n      <td>North Strand</td>\n      <td>S/S RTA</td>\n      <td>03:35:24</td>\n      <td>03:36:14</td>\n      <td>03:38:28</td>\n      <td>03:41:20</td>\n      <td>03:51:20</td>\n      <td>04:11:20</td>\n      <td>04:31:20</td>\n      <td>04:51:20</td>\n    </tr>\n    <tr>\n      <th>3</th>\n      <td>01/01/2013</td>\n      <td>Tallaght</td>\n      <td>Fire CAR</td>\n      <td>04:12:51</td>\n      <td>04:13:56</td>\n      <td>04:14:32</td>\n      <td>04:20:48</td>\n      <td>04:30:48</td>\n      <td>04:50:48</td>\n      <td>05:10:48</td>\n      <td>05:30:48</td>\n    </tr>\n    <tr>\n      <th>4</th>\n      <td>01/01/2013</td>\n      <td>Finglas</td>\n      <td>Fire DOM PER</td>\n      <td>04:14:24</td>\n      <td>04:15:36</td>\n      <td>04:17:37</td>\n      <td>04:20:47</td>\n      <td>04:30:47</td>\n      <td>04:50:47</td>\n      <td>05:10:47</td>\n      <td>05:30:47</td>\n    </tr>\n    <tr>\n      <th>...</th>\n      <td>...</td>\n      <td>...</td>\n      <td>...</td>\n      <td>...</td>\n      <td>...</td>\n      <td>...</td>\n      <td>...</td>\n      <td>...</td>\n      <td>...</td>\n      <td>...</td>\n      <td>...</td>\n    </tr>\n    <tr>\n      <th>38551</th>\n      <td>28/04/2018</td>\n      <td>Blanchardstown</td>\n      <td>Fire ALARM</td>\n      <td>23:57:36</td>\n      <td>23:59:00</td>\n      <td>00:01:09</td>\n      <td>00:09:30</td>\n      <td>00:19:30</td>\n      <td>0</td>\n      <td>00:20:00</td>\n      <td>00:40:00</td>\n    </tr>\n    <tr>\n      <th>38552</th>\n      <td>09/10/2018</td>\n      <td>Kilbarrack</td>\n      <td>Fire CAR</td>\n      <td>23:58:18</td>\n      <td>23:59:14</td>\n      <td>00:00:48</td>\n      <td>00:07:55</td>\n      <td>00:17:55</td>\n      <td>0</td>\n      <td>00:20:00</td>\n      <td>00:40:00</td>\n    </tr>\n    <tr>\n      <th>38553</th>\n      <td>07/06/2018</td>\n      <td>Skerries</td>\n      <td>Fire SMALL</td>\n      <td>23:56:49</td>\n      <td>23:59:23</td>\n      <td>00:00:41</td>\n      <td>00:19:49</td>\n      <td>00:29:49</td>\n      <td>0</td>\n      <td></td>\n      <td></td>\n    </tr>\n    <tr>\n      <th>38554</th>\n      <td>21/11/2018</td>\n      <td>Donnybrook</td>\n      <td>Fire ALARM</td>\n      <td>23:58:57</td>\n      <td>23:59:26</td>\n      <td>00:00:59</td>\n      <td>00:04:23</td>\n      <td>00:14:23</td>\n      <td>0</td>\n      <td></td>\n      <td></td>\n    </tr>\n    <tr>\n      <th>38555</th>\n      <td>01/01/2019</td>\n      <td>Kilbarrack</td>\n      <td>Fire ALARM</td>\n      <td>23:58:18</td>\n      <td>23:59:48</td>\n      <td>00:01:36</td>\n      <td>00:14:18</td>\n      <td>00:24:18</td>\n      <td>0</td>\n      <td></td>\n      <td></td>\n    </tr>\n  </tbody>\n</table>\n<p>38556 rows × 11 columns</p>\n</div>"
     },
     "metadata": {},
     "execution_count": 59
    }
   ],
   "source": [
    "#Replacing any instance of '_' (in any column) with an empty string.\n",
    "R=remove_dash=data.replace(\"-\" ,\"\")\n",
    "R"
   ]
  },
  {
   "cell_type": "code",
   "execution_count": 41,
   "metadata": {},
   "outputs": [
    {
     "output_type": "execute_result",
     "data": {
      "text/plain": [
       "           Date    Station Area   Description       TOC       ORD       MOB  \\\n",
       "0    01/01/2013     Rathfarnham     S/S OTHER  01:27:19  01:28:58  01:30:47   \n",
       "1    01/01/2013        Tallaght      Fire CAR  01:49:57  01:50:40  01:51:47   \n",
       "2    01/01/2013    North Strand       S/S RTA  03:35:24  03:36:14  03:38:28   \n",
       "3    01/01/2013        Tallaght      Fire CAR  04:12:51  04:13:56  04:14:32   \n",
       "4    01/01/2013         Finglas  Fire DOM PER  04:14:24  04:15:36  04:17:37   \n",
       "..          ...             ...           ...       ...       ...       ...   \n",
       "169  05/01/2013   Dun Laoghaire    S/S AMBASS  23:03:21  23:04:19  23:05:40   \n",
       "170  05/01/2013    Phibsborough    Fire ALARM  23:22:52  23:23:23  23:25:06   \n",
       "171  05/01/2013        Tallaght      Fire CAR  23:25:22  23:27:11  23:29:08   \n",
       "172  05/01/2013      Kilbarrack    Fire SMALL  23:43:23  23:44:34       NaN   \n",
       "173  06/01/2013  Blanchardstown      Fire CAR  00:01:25  00:03:57  00:05:12   \n",
       "\n",
       "           IA        LS        AH       MAV        CD  \n",
       "0    01:58:54  02:08:54  02:28:54  02:48:54  03:08:54  \n",
       "1    01:55:43  02:05:43  02:25:43  02:45:43  03:05:43  \n",
       "2    03:41:20  03:51:20  04:11:20  04:31:20  04:51:20  \n",
       "3    04:20:48  04:30:48  04:50:48  05:10:48  05:30:48  \n",
       "4    04:20:47  04:30:47  04:50:47  05:10:47  05:30:47  \n",
       "..        ...       ...       ...       ...       ...  \n",
       "169       NaN  00:10:00  00:30:00  00:50:00  01:10:00  \n",
       "170  23:33:35  23:43:35  00:03:35  00:23:35  00:43:35  \n",
       "171  23:34:41  23:44:41  00:04:41  00:24:41  00:44:41  \n",
       "172  23:49:07  23:59:07  00:19:07  00:39:07  00:59:07  \n",
       "173  00:08:32  00:18:32  00:38:32  00:58:32  01:18:32  \n",
       "\n",
       "[148 rows x 11 columns]"
      ],
      "text/html": "<div>\n<style scoped>\n    .dataframe tbody tr th:only-of-type {\n        vertical-align: middle;\n    }\n\n    .dataframe tbody tr th {\n        vertical-align: top;\n    }\n\n    .dataframe thead th {\n        text-align: right;\n    }\n</style>\n<table border=\"1\" class=\"dataframe\">\n  <thead>\n    <tr style=\"text-align: right;\">\n      <th></th>\n      <th>Date</th>\n      <th>Station Area</th>\n      <th>Description</th>\n      <th>TOC</th>\n      <th>ORD</th>\n      <th>MOB</th>\n      <th>IA</th>\n      <th>LS</th>\n      <th>AH</th>\n      <th>MAV</th>\n      <th>CD</th>\n    </tr>\n  </thead>\n  <tbody>\n    <tr>\n      <th>0</th>\n      <td>01/01/2013</td>\n      <td>Rathfarnham</td>\n      <td>S/S OTHER</td>\n      <td>01:27:19</td>\n      <td>01:28:58</td>\n      <td>01:30:47</td>\n      <td>01:58:54</td>\n      <td>02:08:54</td>\n      <td>02:28:54</td>\n      <td>02:48:54</td>\n      <td>03:08:54</td>\n    </tr>\n    <tr>\n      <th>1</th>\n      <td>01/01/2013</td>\n      <td>Tallaght</td>\n      <td>Fire CAR</td>\n      <td>01:49:57</td>\n      <td>01:50:40</td>\n      <td>01:51:47</td>\n      <td>01:55:43</td>\n      <td>02:05:43</td>\n      <td>02:25:43</td>\n      <td>02:45:43</td>\n      <td>03:05:43</td>\n    </tr>\n    <tr>\n      <th>2</th>\n      <td>01/01/2013</td>\n      <td>North Strand</td>\n      <td>S/S RTA</td>\n      <td>03:35:24</td>\n      <td>03:36:14</td>\n      <td>03:38:28</td>\n      <td>03:41:20</td>\n      <td>03:51:20</td>\n      <td>04:11:20</td>\n      <td>04:31:20</td>\n      <td>04:51:20</td>\n    </tr>\n    <tr>\n      <th>3</th>\n      <td>01/01/2013</td>\n      <td>Tallaght</td>\n      <td>Fire CAR</td>\n      <td>04:12:51</td>\n      <td>04:13:56</td>\n      <td>04:14:32</td>\n      <td>04:20:48</td>\n      <td>04:30:48</td>\n      <td>04:50:48</td>\n      <td>05:10:48</td>\n      <td>05:30:48</td>\n    </tr>\n    <tr>\n      <th>4</th>\n      <td>01/01/2013</td>\n      <td>Finglas</td>\n      <td>Fire DOM PER</td>\n      <td>04:14:24</td>\n      <td>04:15:36</td>\n      <td>04:17:37</td>\n      <td>04:20:47</td>\n      <td>04:30:47</td>\n      <td>04:50:47</td>\n      <td>05:10:47</td>\n      <td>05:30:47</td>\n    </tr>\n    <tr>\n      <th>...</th>\n      <td>...</td>\n      <td>...</td>\n      <td>...</td>\n      <td>...</td>\n      <td>...</td>\n      <td>...</td>\n      <td>...</td>\n      <td>...</td>\n      <td>...</td>\n      <td>...</td>\n      <td>...</td>\n    </tr>\n    <tr>\n      <th>169</th>\n      <td>05/01/2013</td>\n      <td>Dun Laoghaire</td>\n      <td>S/S AMBASS</td>\n      <td>23:03:21</td>\n      <td>23:04:19</td>\n      <td>23:05:40</td>\n      <td>NaN</td>\n      <td>00:10:00</td>\n      <td>00:30:00</td>\n      <td>00:50:00</td>\n      <td>01:10:00</td>\n    </tr>\n    <tr>\n      <th>170</th>\n      <td>05/01/2013</td>\n      <td>Phibsborough</td>\n      <td>Fire ALARM</td>\n      <td>23:22:52</td>\n      <td>23:23:23</td>\n      <td>23:25:06</td>\n      <td>23:33:35</td>\n      <td>23:43:35</td>\n      <td>00:03:35</td>\n      <td>00:23:35</td>\n      <td>00:43:35</td>\n    </tr>\n    <tr>\n      <th>171</th>\n      <td>05/01/2013</td>\n      <td>Tallaght</td>\n      <td>Fire CAR</td>\n      <td>23:25:22</td>\n      <td>23:27:11</td>\n      <td>23:29:08</td>\n      <td>23:34:41</td>\n      <td>23:44:41</td>\n      <td>00:04:41</td>\n      <td>00:24:41</td>\n      <td>00:44:41</td>\n    </tr>\n    <tr>\n      <th>172</th>\n      <td>05/01/2013</td>\n      <td>Kilbarrack</td>\n      <td>Fire SMALL</td>\n      <td>23:43:23</td>\n      <td>23:44:34</td>\n      <td>NaN</td>\n      <td>23:49:07</td>\n      <td>23:59:07</td>\n      <td>00:19:07</td>\n      <td>00:39:07</td>\n      <td>00:59:07</td>\n    </tr>\n    <tr>\n      <th>173</th>\n      <td>06/01/2013</td>\n      <td>Blanchardstown</td>\n      <td>Fire CAR</td>\n      <td>00:01:25</td>\n      <td>00:03:57</td>\n      <td>00:05:12</td>\n      <td>00:08:32</td>\n      <td>00:18:32</td>\n      <td>00:38:32</td>\n      <td>00:58:32</td>\n      <td>01:18:32</td>\n    </tr>\n  </tbody>\n</table>\n<p>148 rows × 11 columns</p>\n</div>"
     },
     "metadata": {},
     "execution_count": 41
    }
   ],
   "source": [
    "# Drop rows for the columns (AH, MAV, CD) where at least one row value is NULL.\n",
    "new_data2=new_data.dropna(subset=['AH','MAV','CD'])\n",
    "null_values=new_data2[new_data2[\"AH\"]==''].index\n",
    "new_data3=new_data2.drop(null_values)\n",
    "new_data3\n"
   ]
  },
  {
   "cell_type": "code",
   "execution_count": 7,
   "metadata": {},
   "outputs": [
    {
     "output_type": "stream",
     "name": "stdout",
     "text": [
      "(153, 11)\n"
     ]
    }
   ],
   "source": [
    "# Replace any instance of “-” (in any column) with an empty string.\n",
    "values = [\"AH\",\"MAV\",\"CD\"]\n",
    "data.dropna(subset = values,inplace=True)\n",
    "print(data.shape)"
   ]
  },
  {
   "cell_type": "code",
   "execution_count": 9,
   "metadata": {},
   "outputs": [
    {
     "output_type": "stream",
     "name": "stdout",
     "text": [
      "1\n"
     ]
    }
   ],
   "source": [
    "#  Drop rows for the columns (AH, MAV, CD) where at least one row value is NULL\n",
    "print(data.duplicated().sum())"
   ]
  },
  {
   "cell_type": "code",
   "execution_count": 10,
   "metadata": {},
   "outputs": [
    {
     "output_type": "stream",
     "name": "stdout",
     "text": [
      "(152, 11)\n"
     ]
    }
   ],
   "source": [
    "# Drop any duplicate rows (except for the first occurrence)\n",
    "data.drop_duplicates(keep = 'first',inplace=True)\n",
    "print(data.shape)"
   ]
  },
  {
   "cell_type": "code",
   "execution_count": 8,
   "metadata": {},
   "outputs": [
    {
     "output_type": "stream",
     "name": "stdout",
     "text": [
      "0 days 00:00:30\n"
     ]
    }
   ],
   "source": [
    "#Output the minimum time difference between TOC and ORD.\n",
    "Toc=pd.to_datetime(data[\"TOC\"])\n",
    "Ord=pd.to_datetime(data[\"ORD\"])\n",
    "diffrence = Ord-Toc\n",
    "print(diffrence.min())\n",
    "\n"
   ]
  },
  {
   "cell_type": "code",
   "execution_count": 23,
   "metadata": {},
   "outputs": [],
   "source": [
    "data.rename(columns={'Station Area':'StationArea'},inplace=True)\n",
    "data=data.fillna(0)"
   ]
  },
  {
   "cell_type": "code",
   "execution_count": 61,
   "metadata": {},
   "outputs": [],
   "source": [
    "# Using the resulting data set, post implementing the previous cleansing steps, load the data into a table in SQL Server. (Note: you must create the physical table in SQL Server to complete this task. Use the same column names as the columns in the CSV File.) \n",
    "conn_str = (\n",
    "    r'DRIVER={SQL Server};'\n",
    "    r'SERVER=DESKTOP-8DHBPEL\\SQLEXPRESS;'\n",
    "    r'DATABASE=fb2;'\n",
    "    r'Trusted_Connection=yes;'\n",
    ")\n",
    "\n",
    "cnxn = pyodbc.connect(conn_str)\n",
    "cursor = cnxn.cursor()\n",
    "\n",
    "\n",
    "for row in data.itertuples():\n",
    "    cursor.execute('''\n",
    "                INSERT INTO fb2.dbo.fbtable(DATE,STATION_AREA,DESCRIPTION,TOC,ORD,MOB,IA,LS,AH,MAV,CD)\n",
    "                VALUES (?,?,?,?,?,?,?,?,?,?,?)\n",
    "                ''',\n",
    "                row.Date,\n",
    "                row.StationArea,\n",
    "                row.Description,\n",
    "                row.TOC,\n",
    "                row.ORD, \n",
    "                row.MOB, \n",
    "                row.IA,\n",
    "                row.LS, \n",
    "                row.AH,\n",
    "                row.MAV, \n",
    "                row.CD\n",
    "               \n",
    "                )\n",
    "cnxn.commit()"
   ]
  },
  {
   "cell_type": "code",
   "execution_count": null,
   "metadata": {},
   "outputs": [],
   "source": []
  }
 ]
}